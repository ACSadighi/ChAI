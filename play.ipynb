{
 "cells": [
  {
   "cell_type": "code",
   "execution_count": 3,
   "metadata": {},
   "outputs": [],
   "source": [
    "import torch"
   ]
  },
  {
   "cell_type": "code",
   "execution_count": 7,
   "metadata": {},
   "outputs": [],
   "source": [
    "num_images = 3\n",
    "images = torch.zeros(num_images,512,512)\n",
    "for i in range(num_images):\n",
    "    images[i,:,:] = torch.randn(512,512)\n",
    "\n",
    "images = images.reshape(512,512,num_images)"
   ]
  },
  {
   "cell_type": "code",
   "execution_count": 12,
   "metadata": {},
   "outputs": [
    {
     "name": "stdout",
     "output_type": "stream",
     "text": [
      "cat.device = cpu\n",
      "cat.shape = torch.Size([512, 512])\n"
     ]
    }
   ],
   "source": [
    "cat = images[:,:,0]\n",
    "print('cat.device =',cat.device)\n",
    "print('cat.shape =', cat.shape)"
   ]
  },
  {
   "cell_type": "code",
   "execution_count": 19,
   "metadata": {},
   "outputs": [
    {
     "name": "stdout",
     "output_type": "stream",
     "text": [
      "cat.shape = torch.Size([512, 512, 1])\n"
     ]
    }
   ],
   "source": [
    "cat3 = torch.unsqueeze(cat,2)\n",
    "print('cat.shape =', cat3.shape)"
   ]
  },
  {
   "cell_type": "code",
   "execution_count": null,
   "metadata": {},
   "outputs": [],
   "source": []
  }
 ],
 "metadata": {
  "kernelspec": {
   "display_name": "Python 3",
   "language": "python",
   "name": "python3"
  },
  "language_info": {
   "codemirror_mode": {
    "name": "ipython",
    "version": 3
   },
   "file_extension": ".py",
   "mimetype": "text/x-python",
   "name": "python",
   "nbconvert_exporter": "python",
   "pygments_lexer": "ipython3",
   "version": "3.9.6"
  }
 },
 "nbformat": 4,
 "nbformat_minor": 2
}
