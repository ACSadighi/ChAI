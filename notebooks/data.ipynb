{
 "cells": [
  {
   "cell_type": "code",
   "execution_count": 1,
   "metadata": {},
   "outputs": [],
   "source": [
    "import numpy as np"
   ]
  },
  {
   "cell_type": "code",
   "execution_count": 2,
   "metadata": {},
   "outputs": [
    {
     "data": {
      "text/plain": [
       "array([[ 1,  2,  3,  4,  5],\n",
       "       [ 6,  7,  8,  9, 10],\n",
       "       [11, 12, 13, 14, 15]])"
      ]
     },
     "execution_count": 2,
     "metadata": {},
     "output_type": "execute_result"
    }
   ],
   "source": [
    "x = np.arange(15).reshape(3,5) + 1\n",
    "x"
   ]
  },
  {
   "cell_type": "code",
   "execution_count": 6,
   "metadata": {},
   "outputs": [],
   "source": [
    "np.save('numpy_x',x,allow_pickle=False)"
   ]
  },
  {
   "cell_type": "code",
   "execution_count": 4,
   "metadata": {},
   "outputs": [
    {
     "data": {
      "text/plain": [
       "dtype('int64')"
      ]
     },
     "execution_count": 4,
     "metadata": {},
     "output_type": "execute_result"
    }
   ],
   "source": [
    "x.dtype"
   ]
  },
  {
   "cell_type": "code",
   "execution_count": 7,
   "metadata": {},
   "outputs": [
    {
     "data": {
      "text/plain": [
       "array([[ 1.,  2.,  3.,  4.,  5.],\n",
       "       [ 6.,  7.,  8.,  9., 10.],\n",
       "       [11., 12., 13., 14., 15.]], dtype=float32)"
      ]
     },
     "execution_count": 7,
     "metadata": {},
     "output_type": "execute_result"
    }
   ],
   "source": [
    "y = np.arange(15).reshape(3,5).astype('float32') + 1\n",
    "np.save('numpy_y',y,allow_pickle=False)\n",
    "y"
   ]
  },
  {
   "cell_type": "code",
   "execution_count": 9,
   "metadata": {},
   "outputs": [
    {
     "data": {
      "text/plain": [
       "(array([[ 1,  2,  3],\n",
       "        [ 4,  5,  6],\n",
       "        [ 7,  8,  9],\n",
       "        [10, 11, 12],\n",
       "        [13, 14, 15]]),\n",
       " array([[ 1,  2,  3,  4,  5,  6,  7],\n",
       "        [ 8,  9, 10, 11, 12, 13, 14],\n",
       "        [15, 16, 17, 18, 19, 20, 21]]))"
      ]
     },
     "execution_count": 9,
     "metadata": {},
     "output_type": "execute_result"
    }
   ],
   "source": [
    "A = np.arange(15).reshape(5,3) + 1\n",
    "B = np.arange(21).reshape(3,7) + 1\n",
    "A,B"
   ]
  },
  {
   "cell_type": "code",
   "execution_count": 13,
   "metadata": {},
   "outputs": [
    {
     "data": {
      "text/plain": [
       "array([[ 144,  162,  180,  198,  216,  234,  252],\n",
       "       [ 360,  405,  450,  495,  540,  585,  630],\n",
       "       [ 576,  648,  720,  792,  864,  936, 1008],\n",
       "       [ 792,  891,  990, 1089, 1188, 1287, 1386],\n",
       "       [1008, 1134, 1260, 1386, 1512, 1638, 1764]])"
      ]
     },
     "execution_count": 13,
     "metadata": {},
     "output_type": "execute_result"
    }
   ],
   "source": [
    "C = np.einsum('ij,kh->ih',A,B)\n",
    "C"
   ]
  },
  {
   "cell_type": "code",
   "execution_count": 18,
   "metadata": {},
   "outputs": [
    {
     "data": {
      "text/plain": [
       "array([[[[  1,   8,  15],\n",
       "         [  2,  16,  30],\n",
       "         [  3,  24,  45]],\n",
       "\n",
       "        [[  4,  32,  60],\n",
       "         [  5,  40,  75],\n",
       "         [  6,  48,  90]],\n",
       "\n",
       "        [[  7,  56, 105],\n",
       "         [  8,  64, 120],\n",
       "         [  9,  72, 135]],\n",
       "\n",
       "        [[ 10,  80, 150],\n",
       "         [ 11,  88, 165],\n",
       "         [ 12,  96, 180]],\n",
       "\n",
       "        [[ 13, 104, 195],\n",
       "         [ 14, 112, 210],\n",
       "         [ 15, 120, 225]]],\n",
       "\n",
       "\n",
       "       [[[  2,   9,  16],\n",
       "         [  4,  18,  32],\n",
       "         [  6,  27,  48]],\n",
       "\n",
       "        [[  8,  36,  64],\n",
       "         [ 10,  45,  80],\n",
       "         [ 12,  54,  96]],\n",
       "\n",
       "        [[ 14,  63, 112],\n",
       "         [ 16,  72, 128],\n",
       "         [ 18,  81, 144]],\n",
       "\n",
       "        [[ 20,  90, 160],\n",
       "         [ 22,  99, 176],\n",
       "         [ 24, 108, 192]],\n",
       "\n",
       "        [[ 26, 117, 208],\n",
       "         [ 28, 126, 224],\n",
       "         [ 30, 135, 240]]],\n",
       "\n",
       "\n",
       "       [[[  3,  10,  17],\n",
       "         [  6,  20,  34],\n",
       "         [  9,  30,  51]],\n",
       "\n",
       "        [[ 12,  40,  68],\n",
       "         [ 15,  50,  85],\n",
       "         [ 18,  60, 102]],\n",
       "\n",
       "        [[ 21,  70, 119],\n",
       "         [ 24,  80, 136],\n",
       "         [ 27,  90, 153]],\n",
       "\n",
       "        [[ 30, 100, 170],\n",
       "         [ 33, 110, 187],\n",
       "         [ 36, 120, 204]],\n",
       "\n",
       "        [[ 39, 130, 221],\n",
       "         [ 42, 140, 238],\n",
       "         [ 45, 150, 255]]],\n",
       "\n",
       "\n",
       "       [[[  4,  11,  18],\n",
       "         [  8,  22,  36],\n",
       "         [ 12,  33,  54]],\n",
       "\n",
       "        [[ 16,  44,  72],\n",
       "         [ 20,  55,  90],\n",
       "         [ 24,  66, 108]],\n",
       "\n",
       "        [[ 28,  77, 126],\n",
       "         [ 32,  88, 144],\n",
       "         [ 36,  99, 162]],\n",
       "\n",
       "        [[ 40, 110, 180],\n",
       "         [ 44, 121, 198],\n",
       "         [ 48, 132, 216]],\n",
       "\n",
       "        [[ 52, 143, 234],\n",
       "         [ 56, 154, 252],\n",
       "         [ 60, 165, 270]]],\n",
       "\n",
       "\n",
       "       [[[  5,  12,  19],\n",
       "         [ 10,  24,  38],\n",
       "         [ 15,  36,  57]],\n",
       "\n",
       "        [[ 20,  48,  76],\n",
       "         [ 25,  60,  95],\n",
       "         [ 30,  72, 114]],\n",
       "\n",
       "        [[ 35,  84, 133],\n",
       "         [ 40,  96, 152],\n",
       "         [ 45, 108, 171]],\n",
       "\n",
       "        [[ 50, 120, 190],\n",
       "         [ 55, 132, 209],\n",
       "         [ 60, 144, 228]],\n",
       "\n",
       "        [[ 65, 156, 247],\n",
       "         [ 70, 168, 266],\n",
       "         [ 75, 180, 285]]],\n",
       "\n",
       "\n",
       "       [[[  6,  13,  20],\n",
       "         [ 12,  26,  40],\n",
       "         [ 18,  39,  60]],\n",
       "\n",
       "        [[ 24,  52,  80],\n",
       "         [ 30,  65, 100],\n",
       "         [ 36,  78, 120]],\n",
       "\n",
       "        [[ 42,  91, 140],\n",
       "         [ 48, 104, 160],\n",
       "         [ 54, 117, 180]],\n",
       "\n",
       "        [[ 60, 130, 200],\n",
       "         [ 66, 143, 220],\n",
       "         [ 72, 156, 240]],\n",
       "\n",
       "        [[ 78, 169, 260],\n",
       "         [ 84, 182, 280],\n",
       "         [ 90, 195, 300]]],\n",
       "\n",
       "\n",
       "       [[[  7,  14,  21],\n",
       "         [ 14,  28,  42],\n",
       "         [ 21,  42,  63]],\n",
       "\n",
       "        [[ 28,  56,  84],\n",
       "         [ 35,  70, 105],\n",
       "         [ 42,  84, 126]],\n",
       "\n",
       "        [[ 49,  98, 147],\n",
       "         [ 56, 112, 168],\n",
       "         [ 63, 126, 189]],\n",
       "\n",
       "        [[ 70, 140, 210],\n",
       "         [ 77, 154, 231],\n",
       "         [ 84, 168, 252]],\n",
       "\n",
       "        [[ 91, 182, 273],\n",
       "         [ 98, 196, 294],\n",
       "         [105, 210, 315]]]])"
      ]
     },
     "execution_count": 18,
     "metadata": {},
     "output_type": "execute_result"
    }
   ],
   "source": [
    "C = np.einsum('ij,kh',A,B)\n",
    "C"
   ]
  },
  {
   "cell_type": "code",
   "execution_count": null,
   "metadata": {},
   "outputs": [],
   "source": []
  }
 ],
 "metadata": {
  "kernelspec": {
   "display_name": "Python 3",
   "language": "python",
   "name": "python3"
  },
  "language_info": {
   "codemirror_mode": {
    "name": "ipython",
    "version": 3
   },
   "file_extension": ".py",
   "mimetype": "text/x-python",
   "name": "python",
   "nbconvert_exporter": "python",
   "pygments_lexer": "ipython3",
   "version": "3.9.6"
  }
 },
 "nbformat": 4,
 "nbformat_minor": 2
}
