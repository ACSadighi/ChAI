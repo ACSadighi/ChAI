{
 "cells": [
  {
   "cell_type": "code",
   "execution_count": 1,
   "metadata": {},
   "outputs": [],
   "source": [
    "%load_ext autoreload\n",
    "%autoreload 2\n",
    "\n",
    "import argparse\n",
    "import torch\n",
    "import torch.nn as nn\n",
    "import torch.nn.functional as F\n",
    "import torch.optim as optim\n",
    "from torchvision import datasets, transforms\n",
    "from torch.optim.lr_scheduler import StepLR\n",
    "import numpy as np\n",
    "import matplotlib.pyplot as plt\n",
    "import torchvision.transforms.functional as tvF\n",
    "from torchvision.utils import make_grid\n",
    "import json\n",
    "import struct\n",
    "import pickle\n",
    "\n",
    "plt.rcParams[\"savefig.bbox\"] = 'tight'\n",
    "\n",
    "\n",
    "def show(imgs):\n",
    "    if not isinstance(imgs, list):\n",
    "        imgs = [imgs]\n",
    "    fig, axs = plt.subplots(ncols=len(imgs), squeeze=False)\n",
    "    for i, img in enumerate(imgs):\n",
    "        img = img.detach()\n",
    "        img = tvF.to_pil_image(img)\n",
    "        axs[0, i].imshow(np.asarray(img))\n",
    "        axs[0, i].set(xticklabels=[], yticklabels=[], xticks=[], yticks=[])"
   ]
  },
  {
   "cell_type": "code",
   "execution_count": 2,
   "metadata": {},
   "outputs": [
    {
     "data": {
      "text/plain": [
       "tensor([[-234.0397, -305.3899, -269.8327, -225.9349, -304.1302,  -44.3082,\n",
       "            0.0000, -460.1936,  -33.5439, -332.2619]],\n",
       "       grad_fn=<LogSoftmaxBackward0>)"
      ]
     },
     "execution_count": 2,
     "metadata": {},
     "output_type": "execute_result"
    }
   ],
   "source": [
    "class Net(nn.Module):\n",
    "    def __init__(self):\n",
    "        super(Net, self).__init__()\n",
    "        self.conv1 = nn.Conv2d(1, 32, 3, 1)\n",
    "        self.conv2 = nn.Conv2d(32, 64, 3, 1)\n",
    "        self.dropout1 = nn.Dropout(0.25)\n",
    "        self.dropout2 = nn.Dropout(0.5)\n",
    "        self.fc1 = nn.Linear(9216, 128)\n",
    "        self.fc2 = nn.Linear(128, 10)\n",
    "\n",
    "    def forward(self, x):\n",
    "        x = self.conv1(x)\n",
    "        x = F.relu(x)\n",
    "        x = self.conv2(x)\n",
    "        x = F.relu(x)\n",
    "        x = F.max_pool2d(x, 2)\n",
    "        x = self.dropout1(x)\n",
    "        x = torch.flatten(x, 1)\n",
    "        x = self.fc1(x)\n",
    "        x = F.relu(x)\n",
    "        x = self.dropout2(x)\n",
    "        x = self.fc2(x)\n",
    "        output = F.log_softmax(x, dim=1)\n",
    "        return output\n",
    "\n",
    "cnn = Net()\n",
    "cnn.load_state_dict(torch.load('mnist_cnn.pt'))\n",
    "img = torch.arange(1 * 28 * 28,dtype=torch.float).reshape(1,1,28,28)\n",
    "output = cnn(img)\n",
    "output"
   ]
  },
  {
   "cell_type": "code",
   "execution_count": 3,
   "metadata": {},
   "outputs": [],
   "source": [
    "transform = transforms.Compose([\n",
    "                transforms.ToTensor(),\n",
    "                transforms.Normalize((0.1307,), (0.3081,))\n",
    "            ])\n",
    "\n",
    "dataset = datasets.MNIST('../data', train=False, download=True, transform=transform)"
   ]
  },
  {
   "cell_type": "code",
   "execution_count": 4,
   "metadata": {},
   "outputs": [
    {
     "data": {
      "text/plain": [
       "Dataset MNIST\n",
       "    Number of datapoints: 10000\n",
       "    Root location: ../data\n",
       "    Split: Test\n",
       "    StandardTransform\n",
       "Transform: Compose(\n",
       "               ToTensor()\n",
       "               Normalize(mean=(0.1307,), std=(0.3081,))\n",
       "           )"
      ]
     },
     "execution_count": 4,
     "metadata": {},
     "output_type": "execute_result"
    }
   ],
   "source": [
    "dataset"
   ]
  },
  {
   "cell_type": "code",
   "execution_count": 5,
   "metadata": {},
   "outputs": [
    {
     "data": {
      "image/png": "[encoded data removed]",
      "text/plain": [
       "<Figure size 640x480 with 1 Axes>"
      ]
     },
     "metadata": {},
     "output_type": "display_data"
    }
   ],
   "source": [
    "batch,_ = dataset[1]\n",
    "show(batch)"
   ]
  },
  {
   "cell_type": "code",
   "execution_count": 6,
   "metadata": {},
   "outputs": [
    {
     "data": {
      "image/png": "[encoded data removed]",
      "text/plain": [
       "<Figure size 640x480 with 1 Axes>"
      ]
     },
     "metadata": {},
     "output_type": "display_data"
    }
   ],
   "source": [
    "batches = [dataset[i][0] for i in range(6)]\n",
    "show(make_grid(batches))"
   ]
  },
  {
   "cell_type": "code",
   "execution_count": 7,
   "metadata": {},
   "outputs": [
    {
     "name": "stdout",
     "output_type": "stream",
     "text": [
      "tensor(7)\n",
      "tensor(2)\n",
      "tensor(1)\n",
      "tensor(0)\n",
      "tensor(4)\n",
      "tensor(1)\n"
     ]
    }
   ],
   "source": [
    "for i in range(6):\n",
    "    output = cnn(batches[i].reshape(1,1,28,28))\n",
    "    print(output.argmax())"
   ]
  },
  {
   "cell_type": "code",
   "execution_count": 8,
   "metadata": {},
   "outputs": [
    {
     "name": "stdout",
     "output_type": "stream",
     "text": [
      "{'conv1.weight': tensor([[[[ 0.2437, -0.1792, -0.2372],\n",
      "          [ 0.1540, -0.3400,  0.2281],\n",
      "          [-0.1094,  0.1883,  0.1041]]],\n",
      "\n",
      "\n",
      "        [[[-0.0923,  0.0784,  0.0795],\n",
      "          [ 0.0619, -0.2485, -0.1691],\n",
      "          [-0.0947,  0.0371, -0.0604]]],\n",
      "\n",
      "\n",
      "        [[[ 0.3992,  0.1737, -0.1872],\n",
      "          [-0.1718, -0.2030, -0.3402],\n",
      "          [-0.0712,  0.0430,  0.3366]]],\n",
      "\n",
      "\n",
      "        [[[ 0.1842, -0.2826,  0.2418],\n",
      "          [ 0.0259,  0.3166,  0.2711],\n",
      "          [-0.4913, -0.4823, -0.2557]]],\n",
      "\n",
      "\n",
      "        [[[ 0.1897, -0.0297,  0.2909],\n",
      "          [-0.1607,  0.3256, -0.2269],\n",
      "          [ 0.2387, -0.0740, -0.4183]]],\n",
      "\n",
      "\n",
      "        [[[ 0.1172, -0.1426,  0.1492],\n",
      "          [-0.1722, -0.1703, -0.3664],\n",
      "          [-0.1950,  0.0671, -0.0371]]],\n",
      "\n",
      "\n",
      "        [[[ 0.3034,  0.1918, -0.1041],\n",
      "          [-0.2917,  0.1266,  0.0214],\n",
      "          [-0.3171,  0.1292,  0.1755]]],\n",
      "\n",
      "\n",
      "        [[[ 0.5066, -0.1909, -0.2690],\n",
      "          [ 0.1129,  0.0306, -0.3823],\n",
      "          [-0.2179,  0.2075, -0.0241]]],\n",
      "\n",
      "\n",
      "        [[[ 0.2110,  0.0396,  0.1161],\n",
      "          [ 0.0512,  0.0875,  0.1223],\n",
      "          [-0.3506,  0.1283, -0.2619]]],\n",
      "\n",
      "\n",
      "        [[[-0.4844, -0.1346, -0.1368],\n",
      "          [ 0.2008, -0.1689, -0.3181],\n",
      "          [ 0.3051,  0.0541,  0.2727]]],\n",
      "\n",
      "\n",
      "        [[[ 0.1980, -0.1958,  0.0327],\n",
      "          [ 0.2461, -0.2390, -0.3439],\n",
      "          [ 0.2491,  0.0838, -0.1077]]],\n",
      "\n",
      "\n",
      "        [[[-0.2085,  0.2507, -0.1685],\n",
      "          [ 0.1046,  0.1462, -0.3709],\n",
      "          [-0.3693,  0.3729,  0.0359]]],\n",
      "\n",
      "\n",
      "        [[[ 0.1846,  0.0062,  0.1174],\n",
      "          [ 0.1505,  0.1285, -0.4086],\n",
      "          [-0.0222,  0.1071,  0.0864]]],\n",
      "\n",
      "\n",
      "        [[[ 0.1073, -0.4356, -0.3281],\n",
      "          [-0.3484, -0.0027,  0.4193],\n",
      "          [-0.1604,  0.2935, -0.1512]]],\n",
      "\n",
      "\n",
      "        [[[-0.5278, -0.1789,  0.1798],\n",
      "          [ 0.2528, -0.1702,  0.0815],\n",
      "          [ 0.2644,  0.1733,  0.0572]]],\n",
      "\n",
      "\n",
      "        [[[ 0.2537,  0.3351,  0.2105],\n",
      "          [-0.3550, -0.2211, -0.1967],\n",
      "          [-0.0777, -0.1289,  0.0358]]],\n",
      "\n",
      "\n",
      "        [[[-0.0010, -0.1519,  0.1022],\n",
      "          [ 0.0378,  0.1526,  0.2008],\n",
      "          [-0.2019,  0.2633, -0.1558]]],\n",
      "\n",
      "\n",
      "        [[[-0.0163, -0.3526, -0.2612],\n",
      "          [-0.2307, -0.1339,  0.3125],\n",
      "          [-0.2575, -0.2146,  0.2093]]],\n",
      "\n",
      "\n",
      "        [[[ 0.2702,  0.3800, -0.0710],\n",
      "          [ 0.1754, -0.0583, -0.1594],\n",
      "          [-0.4196, -0.2517, -0.1919]]],\n",
      "\n",
      "\n",
      "        [[[ 0.0702, -0.0486,  0.0097],\n",
      "          [ 0.2545,  0.1569,  0.0833],\n",
      "          [-0.0562, -0.3658,  0.1046]]],\n",
      "\n",
      "\n",
      "        [[[-0.0429, -0.1463, -0.3946],\n",
      "          [-0.0556, -0.2856,  0.3245],\n",
      "          [-0.2747, -0.2039,  0.0339]]],\n",
      "\n",
      "\n",
      "        [[[-0.2211,  0.0644, -0.1777],\n",
      "          [-0.1848,  0.0054,  0.2544],\n",
      "          [-0.2512,  0.1489,  0.2552]]],\n",
      "\n",
      "\n",
      "        [[[ 0.3145, -0.2271,  0.1834],\n",
      "          [-0.2629,  0.2307, -0.1393],\n",
      "          [ 0.1930, -0.0729, -0.2170]]],\n",
      "\n",
      "\n",
      "        [[[-0.0551, -0.0330,  0.0229],\n",
      "          [-0.0092, -0.0219, -0.3516],\n",
      "          [ 0.1868,  0.2174,  0.2297]]],\n",
      "\n",
      "\n",
      "        [[[ 0.3487, -0.2418, -0.0992],\n",
      "          [ 0.2985, -0.4239,  0.3914],\n",
      "          [-0.4519, -0.4246,  0.2171]]],\n",
      "\n",
      "\n",
      "        [[[-0.3768, -0.1604,  0.2489],\n",
      "          [ 0.3245,  0.3051, -0.0949],\n",
      "          [-0.1792,  0.3045, -0.1293]]],\n",
      "\n",
      "\n",
      "        [[[-0.1383,  0.1221, -0.2671],\n",
      "          [ 0.2487,  0.3048, -0.2549],\n",
      "          [-0.3190,  0.0339,  0.1882]]],\n",
      "\n",
      "\n",
      "        [[[-0.0787, -0.1495, -0.0356],\n",
      "          [-0.2862, -0.2803, -0.3442],\n",
      "          [ 0.4199,  0.4166, -0.0472]]],\n",
      "\n",
      "\n",
      "        [[[ 0.0064,  0.1264,  0.0392],\n",
      "          [-0.3309,  0.1042,  0.1837],\n",
      "          [-0.0965, -0.1147,  0.2542]]],\n",
      "\n",
      "\n",
      "        [[[ 0.1589, -0.2134,  0.3869],\n",
      "          [-0.0292, -0.2509,  0.1346],\n",
      "          [-0.3235,  0.1859, -0.3467]]],\n",
      "\n",
      "\n",
      "        [[[ 0.1243,  0.1403,  0.1985],\n",
      "          [ 0.3309, -0.1129, -0.0967],\n",
      "          [-0.2847, -0.1358, -0.3552]]],\n",
      "\n",
      "\n",
      "        [[[-0.0348, -0.0915,  0.0591],\n",
      "          [ 0.1935,  0.0327, -0.1271],\n",
      "          [-0.2557, -0.3562,  0.3304]]]]), 'conv1.bias': tensor([-0.1234,  0.0621, -0.0290, -0.1659,  0.0289,  0.1052, -0.1400, -0.1020,\n",
      "        -0.1480,  0.0442, -0.1512, -0.2141, -0.1669, -0.1829, -0.1164, -0.0750,\n",
      "        -0.2066, -0.1402, -0.1533,  0.0735, -0.0431,  0.1699, -0.0906, -0.1610,\n",
      "        -0.2020, -0.2510,  0.1043, -0.1995, -0.1571,  0.1061,  0.1871, -0.0782]), 'conv2.weight': tensor([[[[-1.4645e-01, -8.4222e-02,  4.4459e-02],\n",
      "          [-3.8180e-02, -3.0890e-02, -1.5746e-02],\n",
      "          [-4.4939e-02, -5.4803e-02, -7.5712e-02]],\n",
      "\n",
      "         [[-1.7478e-02,  3.0667e-02,  3.0730e-02],\n",
      "          [ 3.6534e-02, -5.5311e-02, -3.0806e-02],\n",
      "          [-2.4694e-02, -2.6911e-02, -5.5528e-02]],\n",
      "\n",
      "         [[ 1.4129e-02,  8.0922e-02,  8.6003e-02],\n",
      "          [-9.0978e-02, -1.1116e-01,  3.7060e-02],\n",
      "          [-6.5039e-02, -9.8240e-02, -7.7626e-02]],\n",
      "\n",
      "         ...,\n",
      "\n",
      "         [[ 4.6090e-02, -7.8067e-02, -2.6393e-02],\n",
      "          [ 4.8981e-02, -7.1241e-02, -1.2849e-01],\n",
      "          [ 7.5714e-02,  9.3273e-02,  4.9433e-02]],\n",
      "\n",
      "         [[ 3.1276e-02, -6.4031e-02, -5.9386e-02],\n",
      "          [ 5.2176e-02, -5.7416e-02, -4.1537e-02],\n",
      "          [ 9.0740e-02,  3.5614e-02, -2.9791e-02]],\n",
      "\n",
      "         [[ 5.1858e-02,  6.3440e-03, -5.2215e-02],\n",
      "          [ 1.3476e-02, -3.2415e-02, -2.1985e-02],\n",
      "          [-3.6331e-02,  3.7113e-02,  1.1646e-01]]],\n",
      "\n",
      "\n",
      "        [[[-6.1610e-02, -4.7405e-02, -6.2051e-02],\n",
      "          [-4.6897e-02,  4.1115e-02,  9.0102e-02],\n",
      "          [ 1.7280e-02,  5.8288e-02, -3.1329e-02]],\n",
      "\n",
      "         [[-2.1012e-04,  7.5626e-02,  3.1085e-02],\n",
      "          [ 1.8098e-02, -4.7899e-02, -1.2663e-02],\n",
      "          [-2.0779e-02,  1.1336e-02,  2.8316e-02]],\n",
      "\n",
      "         [[-1.2309e-01,  6.8820e-02,  1.3355e-01],\n",
      "          [ 6.1330e-02,  1.6237e-01,  4.7864e-02],\n",
      "          [ 2.0438e-02, -3.6697e-02, -5.4398e-02]],\n",
      "\n",
      "         ...,\n",
      "\n",
      "         [[ 3.1265e-02, -1.0745e-01, -1.0960e-01],\n",
      "          [ 2.4484e-02, -1.0720e-02, -6.1264e-02],\n",
      "          [-3.0658e-02, -7.0937e-02,  4.7154e-02]],\n",
      "\n",
      "         [[-7.9989e-02,  3.0664e-03,  1.0091e-02],\n",
      "          [ 1.8456e-02,  4.4528e-02, -3.3632e-03],\n",
      "          [ 1.3595e-02, -4.9586e-02,  4.0333e-03]],\n",
      "\n",
      "         [[-8.8795e-03,  3.2103e-02,  4.0234e-02],\n",
      "          [ 1.2261e-01,  5.3162e-02, -1.9377e-02],\n",
      "          [-5.1581e-03, -6.8731e-02, -7.6290e-02]]],\n",
      "\n",
      "\n",
      "        [[[-1.1327e-02,  3.0704e-02,  1.2918e-01],\n",
      "          [-7.4943e-02,  1.6501e-02,  1.5193e-01],\n",
      "          [-6.2739e-02,  2.1908e-04,  1.5246e-01]],\n",
      "\n",
      "         [[-7.4930e-02, -1.7810e-02, -1.4384e-02],\n",
      "          [-8.1660e-02,  4.6216e-02, -5.2119e-02],\n",
      "          [-7.6143e-04,  1.1389e-02,  3.5648e-02]],\n",
      "\n",
      "         [[-2.5791e-03,  6.0761e-02,  2.2536e-01],\n",
      "          [-4.1481e-02, -1.2133e-02, -3.0305e-03],\n",
      "          [-7.6833e-02, -1.9797e-02, -1.8731e-01]],\n",
      "\n",
      "         ...,\n",
      "\n",
      "         [[ 4.6969e-02, -8.5043e-02, -5.9180e-03],\n",
      "          [-9.2272e-02, -2.0992e-02,  1.1222e-02],\n",
      "          [ 4.6773e-03, -2.5226e-02,  5.0636e-02]],\n",
      "\n",
      "         [[-1.4572e-01,  3.5468e-02, -2.2853e-02],\n",
      "          [-2.0597e-01, -1.0520e-01, -2.3108e-01],\n",
      "          [-4.4375e-02, -1.6662e-01, -1.4950e-01]],\n",
      "\n",
      "         [[-2.0277e-02, -1.7976e-02,  1.1810e-01],\n",
      "          [ 8.2149e-02, -8.3515e-02, -9.0404e-02],\n",
      "          [ 4.8157e-02,  1.5525e-02,  4.3181e-02]]],\n",
      "\n",
      "\n",
      "        ...,\n",
      "\n",
      "\n",
      "        [[[ 2.2664e-03,  6.6571e-03, -4.2084e-02],\n",
      "          [-1.3362e-01, -1.0548e-01, -5.8643e-02],\n",
      "          [-9.7390e-02, -1.1696e-01, -7.3428e-02]],\n",
      "\n",
      "         [[-7.1765e-02, -9.0481e-02, -6.3685e-02],\n",
      "          [ 3.6792e-02, -2.1904e-02, -1.0445e-01],\n",
      "          [-4.3658e-02,  5.1090e-02, -4.7937e-02]],\n",
      "\n",
      "         [[ 6.7461e-03,  6.8962e-02,  1.3548e-01],\n",
      "          [-7.2380e-02,  1.0176e-02,  1.4091e-01],\n",
      "          [-1.6393e-01, -6.8724e-02,  6.3352e-02]],\n",
      "\n",
      "         ...,\n",
      "\n",
      "         [[ 6.5910e-02, -3.0285e-02, -6.7168e-02],\n",
      "          [-4.9823e-02, -3.0661e-02, -1.4124e-01],\n",
      "          [ 7.7578e-03, -1.0653e-01, -8.2470e-02]],\n",
      "\n",
      "         [[ 1.3670e-02,  6.4540e-02,  8.7424e-02],\n",
      "          [-8.2947e-02,  8.8880e-03,  1.8846e-02],\n",
      "          [ 2.2375e-02, -4.0515e-02, -2.3550e-02]],\n",
      "\n",
      "         [[-1.1969e-02, -2.7343e-02,  3.3587e-03],\n",
      "          [ 1.2557e-03,  1.5784e-02, -1.7817e-02],\n",
      "          [-2.4201e-02, -8.2564e-03, -1.3920e-02]]],\n",
      "\n",
      "\n",
      "        [[[ 5.4790e-02, -7.5129e-02, -2.0697e-02],\n",
      "          [-9.7774e-03, -1.1805e-01, -1.0455e-01],\n",
      "          [-5.0606e-02, -1.0845e-01, -7.4237e-02]],\n",
      "\n",
      "         [[ 7.4849e-03,  3.5365e-02, -2.3242e-02],\n",
      "          [-3.6458e-03, -4.8161e-02, -5.3829e-02],\n",
      "          [-1.3263e-02,  2.8595e-02, -6.3684e-03]],\n",
      "\n",
      "         [[ 5.5422e-02,  1.0165e-01,  6.4250e-02],\n",
      "          [-1.4396e-02, -4.6770e-02,  7.6920e-03],\n",
      "          [-1.1591e-02, -1.3625e-02, -7.2340e-02]],\n",
      "\n",
      "         ...,\n",
      "\n",
      "         [[ 3.3304e-02,  3.1553e-04,  3.5842e-03],\n",
      "          [-4.3419e-02,  2.3658e-02, -3.7286e-02],\n",
      "          [ 6.6412e-03, -2.3753e-02, -2.4352e-02]],\n",
      "\n",
      "         [[-4.8023e-03, -5.7735e-02,  1.9333e-02],\n",
      "          [-1.2326e-01, -1.0141e-01, -2.3183e-02],\n",
      "          [-7.8384e-02,  1.9980e-02, -5.7766e-02]],\n",
      "\n",
      "         [[-2.9566e-03, -6.6120e-03,  1.2937e-02],\n",
      "          [ 7.5973e-02, -4.9018e-02, -1.3889e-02],\n",
      "          [ 6.8103e-02,  3.0221e-02,  1.6749e-02]]],\n",
      "\n",
      "\n",
      "        [[[-8.1692e-02, -8.5405e-02,  5.1059e-02],\n",
      "          [ 3.6992e-03, -1.1080e-01,  4.4017e-02],\n",
      "          [ 1.8139e-02, -5.3133e-02, -3.3672e-02]],\n",
      "\n",
      "         [[ 3.7938e-02, -2.8054e-02,  4.8522e-03],\n",
      "          [ 2.6562e-02, -1.7987e-02, -1.6075e-02],\n",
      "          [-2.3276e-02,  9.2069e-03, -2.1274e-02]],\n",
      "\n",
      "         [[-4.1186e-02,  6.7923e-02,  7.0835e-02],\n",
      "          [ 6.2062e-02, -4.8509e-02, -5.1007e-02],\n",
      "          [ 6.5446e-03, -5.7251e-02, -3.2723e-02]],\n",
      "\n",
      "         ...,\n",
      "\n",
      "         [[ 8.1048e-02, -7.6721e-02, -9.4415e-02],\n",
      "          [ 1.0789e-01, -2.3658e-02, -1.1837e-01],\n",
      "          [ 7.0055e-02,  8.4204e-02,  4.9832e-03]],\n",
      "\n",
      "         [[-3.2979e-03, -1.0160e-01, -6.2994e-02],\n",
      "          [ 5.6174e-02, -6.5872e-02, -1.1734e-01],\n",
      "          [-4.3041e-02, -4.4862e-02, -7.2677e-02]],\n",
      "\n",
      "         [[ 7.5904e-02,  9.2055e-02, -7.2972e-02],\n",
      "          [ 3.5294e-02,  1.2739e-02,  5.2003e-02],\n",
      "          [-6.1784e-02, -1.0503e-01,  1.7821e-02]]]]), 'conv2.bias': tensor([-0.0640,  0.0270, -0.0713, -0.0734,  0.0217, -0.0068,  0.0245, -0.0750,\n",
      "         0.0289, -0.0511, -0.0183,  0.0360,  0.0372, -0.0909,  0.0843,  0.0889,\n",
      "         0.0485, -0.0138, -0.0440,  0.0128,  0.0465,  0.0410, -0.0343, -0.0065,\n",
      "        -0.0164,  0.0161,  0.0508,  0.0968, -0.0538, -0.0703,  0.0145, -0.0485,\n",
      "         0.0267,  0.0173, -0.0105,  0.0284, -0.0321, -0.0359,  0.1176, -0.0059,\n",
      "         0.0298, -0.0623, -0.0497, -0.0174, -0.0167, -0.0549, -0.0437, -0.0387,\n",
      "        -0.0100, -0.0603,  0.0453,  0.1341,  0.0610,  0.0207, -0.0187, -0.0639,\n",
      "         0.0501,  0.0004,  0.0685, -0.0059,  0.0431,  0.0365,  0.0279, -0.0260]), 'fc1.weight': tensor([[ 5.5623e-03,  1.1045e-03, -7.6442e-03,  ..., -5.1197e-03,\n",
      "          6.8090e-03,  5.0330e-03],\n",
      "        [ 4.6963e-03, -2.1015e-03, -3.7053e-03,  ...,  1.6173e-03,\n",
      "          5.8912e-04, -3.1213e-03],\n",
      "        [ 4.6277e-04,  1.5591e-03,  7.4543e-03,  ...,  7.3195e-03,\n",
      "          6.3793e-03,  1.4128e-04],\n",
      "        ...,\n",
      "        [-5.0993e-03,  8.4975e-03, -9.9060e-03,  ...,  2.0786e-02,\n",
      "          9.9180e-03,  6.1326e-03],\n",
      "        [-5.5782e-03,  2.9782e-05,  3.6657e-03,  ...,  1.7381e-02,\n",
      "          7.8157e-03,  3.0538e-03],\n",
      "        [ 4.9496e-03, -5.6956e-03, -3.6301e-03,  ...,  1.5707e-02,\n",
      "          5.0836e-03,  1.6818e-03]]), 'fc1.bias': tensor([-5.7096e-02, -7.1354e-03, -8.3776e-03, -6.2396e-02, -6.8143e-02,\n",
      "        -9.5245e-02, -8.1465e-03, -7.9136e-02, -5.3973e-02, -7.1455e-03,\n",
      "         3.4652e-03, -2.6631e-02, -4.2940e-02, -9.4146e-04, -5.6844e-02,\n",
      "         2.9545e-03, -7.4771e-02, -1.1570e-02, -5.4665e-02, -1.0291e-01,\n",
      "        -9.3598e-02, -4.5630e-02, -2.9225e-02, -4.8836e-03, -2.4671e-02,\n",
      "        -8.7026e-02, -4.4025e-02, -9.0740e-02, -7.3482e-02, -7.7763e-02,\n",
      "        -2.0840e-02, -4.7315e-02,  8.8580e-05, -3.4445e-02, -6.8580e-02,\n",
      "        -2.4639e-02, -6.6664e-02, -1.0763e-02,  1.0710e-02,  6.6760e-04,\n",
      "        -4.8405e-02, -4.6910e-02, -8.7202e-02, -2.9042e-02, -1.4348e-02,\n",
      "         1.6003e-02, -5.1660e-02,  1.7020e-02, -2.9083e-02, -9.6597e-03,\n",
      "        -4.0866e-02, -4.1943e-02, -6.9618e-02, -7.1076e-02, -7.4695e-04,\n",
      "        -2.4050e-02,  7.3008e-03, -1.1159e-01, -5.8890e-02, -1.0355e-01,\n",
      "        -4.9299e-02, -1.0289e-01, -9.1481e-03, -1.7836e-02, -3.0279e-02,\n",
      "        -3.9605e-02, -4.1537e-02, -6.3109e-02, -1.0415e-01, -1.0540e-01,\n",
      "        -2.8458e-02, -2.3974e-02, -6.6893e-02, -5.2301e-02, -4.5627e-02,\n",
      "        -7.4547e-02, -1.3018e-02, -5.2804e-02, -5.6431e-02, -1.1117e-01,\n",
      "        -4.8856e-02, -7.8128e-02, -5.8625e-02,  4.8244e-03,  1.3871e-02,\n",
      "        -3.4353e-02, -1.1218e-01, -5.6917e-02, -7.1054e-03, -3.4426e-02,\n",
      "        -6.9233e-02,  9.8492e-04, -3.4729e-02, -7.0831e-02, -7.4624e-03,\n",
      "        -1.0158e-02,  2.2449e-02, -9.4182e-02,  5.6556e-03,  5.5915e-03,\n",
      "        -8.7065e-02, -4.1947e-02, -6.1414e-03,  8.1635e-05, -1.0240e-01,\n",
      "        -7.1162e-02, -8.6970e-03,  1.8230e-03, -9.8520e-02, -7.4271e-02,\n",
      "        -3.0678e-02, -6.1656e-02, -1.1639e-02, -4.5044e-02, -9.8853e-04,\n",
      "        -6.4637e-02,  1.1627e-02,  1.0139e-02, -9.6787e-04, -5.8462e-02,\n",
      "        -5.1944e-02,  3.8369e-03,  5.4630e-03,  6.8362e-03, -1.0687e-01,\n",
      "        -1.9858e-02, -6.4099e-02, -2.8403e-02]), 'fc2.weight': tensor([[ 0.0724, -0.0630, -0.0453,  ..., -0.3767, -0.3088, -0.1988],\n",
      "        [-0.0221, -0.0871, -0.0793,  ...,  0.0500,  0.0311,  0.0085],\n",
      "        [-0.1181, -0.0414,  0.0446,  ..., -0.4073,  0.0065, -0.0167],\n",
      "        ...,\n",
      "        [-0.3062,  0.0295,  0.0783,  ..., -0.0289, -0.0777, -0.1596],\n",
      "        [ 0.0293,  0.0768, -0.0834,  ..., -0.1263,  0.0322, -0.2442],\n",
      "        [-0.0450,  0.0129, -0.0371,  ...,  0.0492, -0.2883,  0.1267]]), 'fc2.bias': tensor([-0.1553,  0.1011, -0.0368, -0.0471,  0.0183, -0.0406, -0.1437,  0.0334,\n",
      "        -0.1441,  0.0673])}\n"
     ]
    }
   ],
   "source": [
    "sd = cnn.state_dict()\n",
    "print(dict(sd))"
   ]
  },
  {
   "cell_type": "code",
   "execution_count": 9,
   "metadata": {},
   "outputs": [
    {
     "name": "stdout",
     "output_type": "stream",
     "text": [
      "conv1.weight \t torch.Size([32, 1, 3, 3])\n",
      "conv1.bias \t torch.Size([32])\n",
      "conv2.weight \t torch.Size([64, 32, 3, 3])\n",
      "conv2.bias \t torch.Size([64])\n",
      "fc1.weight \t torch.Size([128, 9216])\n",
      "fc1.bias \t torch.Size([128])\n",
      "fc2.weight \t torch.Size([10, 128])\n",
      "fc2.bias \t torch.Size([10])\n"
     ]
    }
   ],
   "source": [
    "for param_tensor in cnn.state_dict():\n",
    "    t = cnn.state_dict()[param_tensor]\n",
    "    print(param_tensor, \"\\t\", t.size())\n"
   ]
  },
  {
   "cell_type": "code",
   "execution_count": 10,
   "metadata": {},
   "outputs": [
    {
     "name": "stdout",
     "output_type": "stream",
     "text": [
      "b'\\x80\\x04\\x95\\t\\x06\\x00\\x00\\x00\\x00\\x00\\x00\\x8c\\x0ctorch._utils\\x94\\x8c\\x12_rebuild_tensor_v2\\x94\\x93\\x94(\\x8c\\rtorch.storage\\x94\\x8c\\x10_load_from_bytes\\x94\\x93\\x94Bt\\x05\\x00\\x00\\x80\\x02\\x8a\\nl\\xfc\\x9cF\\xf9 j\\xa8P\\x19.\\x80\\x02M\\xe9\\x03.\\x80\\x02}q\\x00(X\\x10\\x00\\x00\\x00protocol_versionq\\x01M\\xe9\\x03X\\r\\x00\\x00\\x00little_endianq\\x02\\x88X\\n\\x00\\x00\\x00type_sizesq\\x03}q\\x04(X\\x05\\x00\\x00\\x00shortq\\x05K\\x02X\\x03\\x00\\x00\\x00intq\\x06K\\x04X\\x04\\x00\\x00\\x00longq\\x07K\\x04uu.\\x80\\x02(X\\x07\\x00\\x00\\x00storageq\\x00ctorch\\nFloatStorage\\nq\\x01X\\n\\x00\\x00\\x004485000160q\\x02X\\x03\\x00\\x00\\x00cpuq\\x03M \\x01Ntq\\x04Q.\\x80\\x02]q\\x00X\\n\\x00\\x00\\x004485000160q\\x01a. \\x01\\x00\\x00\\x00\\x00\\x00\\x00\\xea\\x92y>{u7\\xbeF\\xe5r\\xbe\\xfe\\xa7\\x1d>\\x9f\\x19\\xae\\xbe\\x0b\\x8ci>\\xb5\\xfb\\xdf\\xbd\\xcd\\xda@>@2\\xd5=\\xa7\\x00\\xbd\\xbd*\\xaa\\xa0=\\x04\\xe8\\xa2=\\xff\\x82}=\\xcbv~\\xbe\\xe1\\x1c-\\xber\\xdb\\xc1\\xbdS\\xd0\\x17=\\xed\\x89w\\xbd\\xf3e\\xcc>\\x1f\\xd31>\\x8f\\xba?\\xbea\\xe1/\\xbeM\\xd3O\\xbeD(\\xae\\xbe\\xa0\\xc2\\x91\\xbd\\xd5\\n0=RU\\xac>6\\xa7<>c\\xac\\x90\\xbe\\x81\\xa3w>Z\\x89\\xd4<%\\x19\\xa2>5\\xd3\\x8a>\\xfd\\x8f\\xfb\\xbe\\x08\\xea\\xf6\\xbe\\xda\\xe6\\x82\\xbe#MB>\\xb6\\r\\xf3\\xbc\\x85\\xf3\\x94>2\\x8d$\\xbe\\xba\\xaf\\xa6>\\xbc[h\\xbe\\xdeyt>\\xc0\\x80\\x97\\xbd\\x95&\\xd6\\xbeA\\x07\\xf0=\\x1a\\x02\\x12\\xbe\\xa0\\xcc\\x18><S0\\xbefl.\\xbe\\x14\\x98\\xbb\\xbe\\xaa\\xa4G\\xbe\\x87`\\x89=\\xa7\\xe0\\x17\\xbd\\xd0W\\x9b>\\xd9hD>\\xd1-\\xd5\\xbd\\n`\\x95\\xbeC\\xa2\\x01>^\\xe7\\xae<\\xa3V\\xa2\\xbe\\x13K\\x04>z\\xb33>\\xe4\\xb1\\x01?0\\x86C\\xbe\\x86\\xb8\\x89\\xbe\\xcd%\\xe7=\\xf1\\x9b\\xfa<\\x1d\\xbd\\xc3\\xbe\\xe7\\x19_\\xbe\\x9dqT>`K\\xc5\\xbc\\x7f\\x0fX>\\xbac\"=4\\xbb\\xed=\\x07\\xbeQ=U8\\xb3=\\x14m\\xfa=\\xee\\x80\\xb3\\xbe\\xa2m\\x03>\\xb4\\x14\\x86\\xbe\\xb0\\xff\\xf7\\xbe\\xf6\\xdf\\t\\xbe\\x9e\\x0b\\x0c\\xbe\\xb6\\x9dM>\\xcf\\xeb,\\xbe\\xf3\\xdb\\xa2\\xbe\\x889\\x9c>\\x8fh]=\\xd2\\xa4\\x8b>\\xa0\\xc0J>0\\x8cH\\xbe\\xe7\\xf9\\x05=\\x9d\\t|>/\\xb2t\\xbe?\\x12\\xb0\\xbe$\\x08\\x7f>9\\xb0\\xab=\\xa4\\x9c\\xdc\\xbdo\\x85U\\xbe\\xfeV\\x80>\\xbd\\x92,\\xbe\\xc2,\\xd6=\\x16\\xad\\x15>o\\xe7\\xbd\\xbe\\x85\\x10\\xbd\\xbeE\\xed\\xbe>\\x9f\\xf7\\x12=\\xb9\\x12=>\\xdaw\\xcb;\\xc1u\\xf0=\\x9b)\\x1a>\\xcf\\x96\\x03>\\xad2\\xd1\\xbe\\xfc\\xce\\xb5\\xbc\\xf4Z\\xdb=\\x00\\x02\\xb1=\\x85\\xd7\\xdb=\\xad\\x06\\xdf\\xbe\\x88\\xf9\\xa7\\xbe1d\\xb2\\xbe\\x03|2\\xbb\\x93\\xb0\\xd6>fL$\\xbe\\xed?\\x96>\\xb4\\xde\\x1a\\xbe\\xa3\\x1f\\x07\\xbf\\r97\\xbeB\\x1a8>\\xb4k\\x81>\\x15<.\\xbe\\x7f\\xd9\\xa6=\\xd2b\\x87>\\xbew1>\\xfd1j=\\xd9\\xe9\\x81>+\\x98\\xab>\\x91\\x97W>\\x05\\xc4\\xb5\\xbe\\xa0ab\\xbe\\x19rI\\xbe\\x1c/\\x9f\\xbd\\xbe\\x02\\x04\\xbe\\xb9\\xc8\\x12=^6\\x81\\xbav\\x87\\x1b\\xbeYL\\xd1=\\x98\\xae\\x1a=MD\\x1c>\\xf9\\xa6M>+\\xbeN\\xbe\\xcb\\xc9\\x86>T\\x8b\\x1f\\xbe\\xda\\x85\\x85\\xbc0\\x8a\\xb4\\xbe2\\xbc\\x85\\xbe\\x010l\\xbe|\\x13\\t\\xbeH\\xfc\\x9f>\\xd9\\xd9\\x83\\xbe\\x0c\\xbf[\\xbe\\xf9[V>3]\\x8a>\\x1a\\x8d\\xc2>\\x89[\\x91\\xbd\\x87\\x913>\\xdd\\xc7n\\xbd\\x967#\\xbe\\xa9\\xcf\\xd6\\xbe\\n\\xdc\\x80\\xbeM\\x8bD\\xbe\\xa0\\xce\\x8f=\\xbc\\xf8F\\xbd\\x97\\xf3\\x1e<\\xd4I\\x82>9\\xac >\\xec\\xaa\\xaa=|Vf\\xbdtE\\xbb\\xbe\\x830\\xd6=\\xf2\\x9f/\\xbd\\xaf\\xc7\\x15\\xbe!\\x04\\xca\\xbeW\\x91c\\xbdA4\\x92\\xbe\\xd6\"\\xa6>d\\xa7\\x8c\\xbeH\\xd4P\\xbe\\xc7\\x02\\x0b=\\x88pb\\xbe%\\xed\\x83=\\xd1\\x036\\xbejE=\\xbep\\'\\xb0;\\xe2A\\x82>\\xd8\\xa2\\x80\\xbe\\xc2z\\x18>\\x8d\\xa4\\x82>)\\x08\\xa1>j\\x8ch\\xbev\\xc6;>\\xdc\\x9a\\x86\\xbe\\xa1El>\\x9d\\xa1\\x0e\\xbe\\x93\\x97E>#3\\x95\\xbd\\xe36^\\xbe\\xa2\\x83a\\xbd\\xa0\\x00\\x07\\xbd \\xb1\\xbb<\\xcas\\x17\\xbc\\x9fO\\xb3\\xbc\\xe0\\n\\xb4\\xbe\\xbbD?>\\xf5\\x98^>U.k>!\\x86\\xb2>~\\x9aw\\xbeS;\\xcb\\xbdY\\xd1\\x98>\\xab\\x05\\xd9\\xbexa\\xc8>\\xe0_\\xe7\\xbe\\x84g\\xd9\\xbe\\\\I^>\\xbf\\xe7\\xc0\\xbe4F$\\xbe7\\xdd~>\\x86\\x1f\\xa6>\\x10<\\x9c>%_\\xc2\\xbd\\xcc\\x8a7\\xbe\\xee\\xe5\\x9b>\\x89j\\x04\\xbeD\\xaa\\r\\xbe\\xf9\\n\\xfa=p\\xc1\\x88\\xbe/\\x9e~>B\\x11\\x9c>\\xaf}\\x82\\xbe\\x91W\\xa3\\xbe\\xaa\\xb4\\n=\\xa2\\xc2@>\\xa8\\x13\\xa1\\xbd\\xe6\\x12\\x19\\xbeQ\\xbc\\x11\\xbd\\xe8\\x8a\\x92\\xbe$\\x89\\x8f\\xbe\\xe04\\xb0\\xbeb\\xfe\\xd6>\\xd5H\\xd5>\\x17\\x7fA\\xbd!%\\xd2;#t\\x01>\\x96\\x96 =\\x7ff\\xa9\\xbeG^\\xd5=\\x9b\\x12<>\\x84\\x97\\xc5\\xbd\\x15\\xe2\\xea\\xbd\\xf2\\'\\x82>5\\xc1\">\\x80\\x8dZ\\xbe|\\x1c\\xc6>a\\xe0\\xee\\xbcqz\\x80\\xbe\\x11\\xcc\\t>s\\x9f\\xa5\\xbe\\x06R>>`\\x83\\xb1\\xbej\\x97\\xfe=\\xc1\\xb2\\x0f>\\xc0MK>\\x81j\\xa9>\\x11\\'\\xe7\\xbd? \\xc6\\xbd\\x96\\xc8\\x91\\xbey\\t\\x0b\\xbe\\x95\\xe1\\xb5\\xbe,q\\x0e\\xbdiq\\xbb\\xbd\\xa7(r=U\\x1fF>7\\xc9\\x05=\\xbb!\\x02\\xbe\\x88\\xed\\x82\\xbec]\\xb6\\xbe-%\\xa9>\\x94\\x85\\x94R\\x94K\\x00(K K\\x01K\\x03K\\x03t\\x94(K\\tK\\tK\\x03K\\x01t\\x94\\x89\\x8c\\x0bcollections\\x94\\x8c\\x0bOrderedDict\\x94\\x93\\x94)R\\x94t\\x94R\\x94.'\n"
     ]
    }
   ],
   "source": [
    "sd = cnn.state_dict()\n",
    "kernel = sd['conv1.weight']\n",
    "print(pickle.dumps(kernel))"
   ]
  },
  {
   "cell_type": "code",
   "execution_count": 11,
   "metadata": {},
   "outputs": [
    {
     "data": {
      "text/plain": [
       "False"
      ]
     },
     "execution_count": 11,
     "metadata": {},
     "output_type": "execute_result"
    }
   ],
   "source": [
    "kernel.numpy().dtype == 'float64'"
   ]
  },
  {
   "cell_type": "code",
   "execution_count": 12,
   "metadata": {},
   "outputs": [
    {
     "data": {
      "text/plain": [
       "b'\\x80\\x04\\x95\\x13\\x05\\x00\\x00\\x00\\x00\\x00\\x00\\x8c\\x16numpy._core.multiarray\\x94\\x8c\\x0c_reconstruct\\x94\\x93\\x94\\x8c\\x05numpy\\x94\\x8c\\x07ndarray\\x94\\x93\\x94K\\x00\\x85\\x94C\\x01b\\x94\\x87\\x94R\\x94(K\\x01(K K\\x01K\\x03K\\x03t\\x94h\\x03\\x8c\\x05dtype\\x94\\x93\\x94\\x8c\\x02f4\\x94\\x89\\x88\\x87\\x94R\\x94(K\\x03\\x8c\\x01<\\x94NNNJ\\xff\\xff\\xff\\xffJ\\xff\\xff\\xff\\xffK\\x00t\\x94b\\x89B\\x80\\x04\\x00\\x00\\xea\\x92y>{u7\\xbeF\\xe5r\\xbe\\xfe\\xa7\\x1d>\\x9f\\x19\\xae\\xbe\\x0b\\x8ci>\\xb5\\xfb\\xdf\\xbd\\xcd\\xda@>@2\\xd5=\\xa7\\x00\\xbd\\xbd*\\xaa\\xa0=\\x04\\xe8\\xa2=\\xff\\x82}=\\xcbv~\\xbe\\xe1\\x1c-\\xber\\xdb\\xc1\\xbdS\\xd0\\x17=\\xed\\x89w\\xbd\\xf3e\\xcc>\\x1f\\xd31>\\x8f\\xba?\\xbea\\xe1/\\xbeM\\xd3O\\xbeD(\\xae\\xbe\\xa0\\xc2\\x91\\xbd\\xd5\\n0=RU\\xac>6\\xa7<>c\\xac\\x90\\xbe\\x81\\xa3w>Z\\x89\\xd4<%\\x19\\xa2>5\\xd3\\x8a>\\xfd\\x8f\\xfb\\xbe\\x08\\xea\\xf6\\xbe\\xda\\xe6\\x82\\xbe#MB>\\xb6\\r\\xf3\\xbc\\x85\\xf3\\x94>2\\x8d$\\xbe\\xba\\xaf\\xa6>\\xbc[h\\xbe\\xdeyt>\\xc0\\x80\\x97\\xbd\\x95&\\xd6\\xbeA\\x07\\xf0=\\x1a\\x02\\x12\\xbe\\xa0\\xcc\\x18><S0\\xbefl.\\xbe\\x14\\x98\\xbb\\xbe\\xaa\\xa4G\\xbe\\x87`\\x89=\\xa7\\xe0\\x17\\xbd\\xd0W\\x9b>\\xd9hD>\\xd1-\\xd5\\xbd\\n`\\x95\\xbeC\\xa2\\x01>^\\xe7\\xae<\\xa3V\\xa2\\xbe\\x13K\\x04>z\\xb33>\\xe4\\xb1\\x01?0\\x86C\\xbe\\x86\\xb8\\x89\\xbe\\xcd%\\xe7=\\xf1\\x9b\\xfa<\\x1d\\xbd\\xc3\\xbe\\xe7\\x19_\\xbe\\x9dqT>`K\\xc5\\xbc\\x7f\\x0fX>\\xbac\"=4\\xbb\\xed=\\x07\\xbeQ=U8\\xb3=\\x14m\\xfa=\\xee\\x80\\xb3\\xbe\\xa2m\\x03>\\xb4\\x14\\x86\\xbe\\xb0\\xff\\xf7\\xbe\\xf6\\xdf\\t\\xbe\\x9e\\x0b\\x0c\\xbe\\xb6\\x9dM>\\xcf\\xeb,\\xbe\\xf3\\xdb\\xa2\\xbe\\x889\\x9c>\\x8fh]=\\xd2\\xa4\\x8b>\\xa0\\xc0J>0\\x8cH\\xbe\\xe7\\xf9\\x05=\\x9d\\t|>/\\xb2t\\xbe?\\x12\\xb0\\xbe$\\x08\\x7f>9\\xb0\\xab=\\xa4\\x9c\\xdc\\xbdo\\x85U\\xbe\\xfeV\\x80>\\xbd\\x92,\\xbe\\xc2,\\xd6=\\x16\\xad\\x15>o\\xe7\\xbd\\xbe\\x85\\x10\\xbd\\xbeE\\xed\\xbe>\\x9f\\xf7\\x12=\\xb9\\x12=>\\xdaw\\xcb;\\xc1u\\xf0=\\x9b)\\x1a>\\xcf\\x96\\x03>\\xad2\\xd1\\xbe\\xfc\\xce\\xb5\\xbc\\xf4Z\\xdb=\\x00\\x02\\xb1=\\x85\\xd7\\xdb=\\xad\\x06\\xdf\\xbe\\x88\\xf9\\xa7\\xbe1d\\xb2\\xbe\\x03|2\\xbb\\x93\\xb0\\xd6>fL$\\xbe\\xed?\\x96>\\xb4\\xde\\x1a\\xbe\\xa3\\x1f\\x07\\xbf\\r97\\xbeB\\x1a8>\\xb4k\\x81>\\x15<.\\xbe\\x7f\\xd9\\xa6=\\xd2b\\x87>\\xbew1>\\xfd1j=\\xd9\\xe9\\x81>+\\x98\\xab>\\x91\\x97W>\\x05\\xc4\\xb5\\xbe\\xa0ab\\xbe\\x19rI\\xbe\\x1c/\\x9f\\xbd\\xbe\\x02\\x04\\xbe\\xb9\\xc8\\x12=^6\\x81\\xbav\\x87\\x1b\\xbeYL\\xd1=\\x98\\xae\\x1a=MD\\x1c>\\xf9\\xa6M>+\\xbeN\\xbe\\xcb\\xc9\\x86>T\\x8b\\x1f\\xbe\\xda\\x85\\x85\\xbc0\\x8a\\xb4\\xbe2\\xbc\\x85\\xbe\\x010l\\xbe|\\x13\\t\\xbeH\\xfc\\x9f>\\xd9\\xd9\\x83\\xbe\\x0c\\xbf[\\xbe\\xf9[V>3]\\x8a>\\x1a\\x8d\\xc2>\\x89[\\x91\\xbd\\x87\\x913>\\xdd\\xc7n\\xbd\\x967#\\xbe\\xa9\\xcf\\xd6\\xbe\\n\\xdc\\x80\\xbeM\\x8bD\\xbe\\xa0\\xce\\x8f=\\xbc\\xf8F\\xbd\\x97\\xf3\\x1e<\\xd4I\\x82>9\\xac >\\xec\\xaa\\xaa=|Vf\\xbdtE\\xbb\\xbe\\x830\\xd6=\\xf2\\x9f/\\xbd\\xaf\\xc7\\x15\\xbe!\\x04\\xca\\xbeW\\x91c\\xbdA4\\x92\\xbe\\xd6\"\\xa6>d\\xa7\\x8c\\xbeH\\xd4P\\xbe\\xc7\\x02\\x0b=\\x88pb\\xbe%\\xed\\x83=\\xd1\\x036\\xbejE=\\xbep\\'\\xb0;\\xe2A\\x82>\\xd8\\xa2\\x80\\xbe\\xc2z\\x18>\\x8d\\xa4\\x82>)\\x08\\xa1>j\\x8ch\\xbev\\xc6;>\\xdc\\x9a\\x86\\xbe\\xa1El>\\x9d\\xa1\\x0e\\xbe\\x93\\x97E>#3\\x95\\xbd\\xe36^\\xbe\\xa2\\x83a\\xbd\\xa0\\x00\\x07\\xbd \\xb1\\xbb<\\xcas\\x17\\xbc\\x9fO\\xb3\\xbc\\xe0\\n\\xb4\\xbe\\xbbD?>\\xf5\\x98^>U.k>!\\x86\\xb2>~\\x9aw\\xbeS;\\xcb\\xbdY\\xd1\\x98>\\xab\\x05\\xd9\\xbexa\\xc8>\\xe0_\\xe7\\xbe\\x84g\\xd9\\xbe\\\\I^>\\xbf\\xe7\\xc0\\xbe4F$\\xbe7\\xdd~>\\x86\\x1f\\xa6>\\x10<\\x9c>%_\\xc2\\xbd\\xcc\\x8a7\\xbe\\xee\\xe5\\x9b>\\x89j\\x04\\xbeD\\xaa\\r\\xbe\\xf9\\n\\xfa=p\\xc1\\x88\\xbe/\\x9e~>B\\x11\\x9c>\\xaf}\\x82\\xbe\\x91W\\xa3\\xbe\\xaa\\xb4\\n=\\xa2\\xc2@>\\xa8\\x13\\xa1\\xbd\\xe6\\x12\\x19\\xbeQ\\xbc\\x11\\xbd\\xe8\\x8a\\x92\\xbe$\\x89\\x8f\\xbe\\xe04\\xb0\\xbeb\\xfe\\xd6>\\xd5H\\xd5>\\x17\\x7fA\\xbd!%\\xd2;#t\\x01>\\x96\\x96 =\\x7ff\\xa9\\xbeG^\\xd5=\\x9b\\x12<>\\x84\\x97\\xc5\\xbd\\x15\\xe2\\xea\\xbd\\xf2\\'\\x82>5\\xc1\">\\x80\\x8dZ\\xbe|\\x1c\\xc6>a\\xe0\\xee\\xbcqz\\x80\\xbe\\x11\\xcc\\t>s\\x9f\\xa5\\xbe\\x06R>>`\\x83\\xb1\\xbej\\x97\\xfe=\\xc1\\xb2\\x0f>\\xc0MK>\\x81j\\xa9>\\x11\\'\\xe7\\xbd? \\xc6\\xbd\\x96\\xc8\\x91\\xbey\\t\\x0b\\xbe\\x95\\xe1\\xb5\\xbe,q\\x0e\\xbdiq\\xbb\\xbd\\xa7(r=U\\x1fF>7\\xc9\\x05=\\xbb!\\x02\\xbe\\x88\\xed\\x82\\xbec]\\xb6\\xbe-%\\xa9>\\x94t\\x94b.'"
      ]
     },
     "execution_count": 12,
     "metadata": {},
     "output_type": "execute_result"
    }
   ],
   "source": [
    "np_kernel = kernel.numpy()\n",
    "pickle.dumps(np_kernel)\n",
    "# print(json.dumps(np_kernel.tolist(),indent=2))"
   ]
  },
  {
   "cell_type": "code",
   "execution_count": 22,
   "metadata": {},
   "outputs": [
    {
     "data": {
      "text/plain": [
       "{'rank': 2,\n",
       " 'shape': (3, 5),\n",
       " 'dtype': 'float32',\n",
       " 'data': array([[ 0.,  1.,  2.,  3.,  4.],\n",
       "        [ 5.,  6.,  7.,  8.,  9.],\n",
       "        [10., 11., 12., 13., 14.]], dtype=float32)}"
      ]
     },
     "execution_count": 22,
     "metadata": {},
     "output_type": "execute_result"
    }
   ],
   "source": [
    "from chpl_tensor import *\n",
    "ct = ChapelTensor(np.arange(15).reshape(3,5).astype('float32'))\n",
    "\n",
    "# import io\n",
    "# f = io.BytesIO()\n",
    "# p = MyPickler(f)\n",
    "# p.dump(ct)\n",
    "# bts = f.getvalue()\n",
    "# print(str(bts))\n",
    "ct.__dict__"
   ]
  },
  {
   "cell_type": "code",
   "execution_count": 17,
   "metadata": {},
   "outputs": [
    {
     "ename": "AttributeError",
     "evalue": "'numpy.ndarray' object has no attribute '__dict__'",
     "output_type": "error",
     "traceback": [
      "\u001b[0;31m---------------------------------------------------------------------------\u001b[0m",
      "\u001b[0;31mAttributeError\u001b[0m                            Traceback (most recent call last)",
      "Cell \u001b[0;32mIn[17], line 4\u001b[0m\n\u001b[1;32m      2\u001b[0m str_of_bytes \u001b[38;5;241m=\u001b[39m \u001b[38;5;28mstr\u001b[39m(byte_str,encoding\u001b[38;5;241m=\u001b[39m\u001b[38;5;124m'\u001b[39m\u001b[38;5;124mlatin1\u001b[39m\u001b[38;5;124m'\u001b[39m)\n\u001b[1;32m      3\u001b[0m ct1 \u001b[38;5;241m=\u001b[39m pickle\u001b[38;5;241m.\u001b[39mloads(\u001b[38;5;28mbytes\u001b[39m(str_of_bytes,\u001b[38;5;124m'\u001b[39m\u001b[38;5;124mlatin1\u001b[39m\u001b[38;5;124m'\u001b[39m))\n\u001b[0;32m----> 4\u001b[0m \u001b[43mct1\u001b[49m\u001b[38;5;241;43m.\u001b[39;49m\u001b[43mdata\u001b[49m\u001b[38;5;241;43m.\u001b[39;49m\u001b[38;5;18;43m__dict__\u001b[39;49m\n",
      "\u001b[0;31mAttributeError\u001b[0m: 'numpy.ndarray' object has no attribute '__dict__'"
     ]
    }
   ],
   "source": [
    "byte_str = pickle.dumps(ct)\n",
    "str_of_bytes = str(byte_str,encoding='latin1')\n",
    "ct1 = pickle.loads(bytes(str_of_bytes,'latin1'))\n",
    "ct1.data.__dict__\n"
   ]
  },
  {
   "cell_type": "code",
   "execution_count": 23,
   "metadata": {},
   "outputs": [
    {
     "data": {
      "text/plain": [
       "'{\"rank\": 2, \"shape\": [3, 5], \"dtype\": \"float32\", \"data\": [[0.0, 1.0, 2.0, 3.0, 4.0], [5.0, 6.0, 7.0, 8.0, 9.0], [10.0, 11.0, 12.0, 13.0, 14.0]]}'"
      ]
     },
     "execution_count": 23,
     "metadata": {},
     "output_type": "execute_result"
    }
   ],
   "source": [
    "\n",
    "json.dumps(ct.full_dict())"
   ]
  },
  {
   "cell_type": "code",
   "execution_count": 20,
   "metadata": {},
   "outputs": [
    {
     "ename": "TypeError",
     "evalue": "string argument expected, got 'bytes'",
     "output_type": "error",
     "traceback": [
      "\u001b[0;31m---------------------------------------------------------------------------\u001b[0m",
      "\u001b[0;31mTypeError\u001b[0m                                 Traceback (most recent call last)",
      "Cell \u001b[0;32mIn[20], line 3\u001b[0m\n\u001b[1;32m      1\u001b[0m \u001b[38;5;28;01mimport\u001b[39;00m \u001b[38;5;21;01mio\u001b[39;00m\n\u001b[1;32m      2\u001b[0m bf \u001b[38;5;241m=\u001b[39m io\u001b[38;5;241m.\u001b[39mStringIO()\n\u001b[0;32m----> 3\u001b[0m \u001b[43mpickle\u001b[49m\u001b[38;5;241;43m.\u001b[39;49m\u001b[43mdump\u001b[49m\u001b[43m(\u001b[49m\u001b[43mct\u001b[49m\u001b[43m,\u001b[49m\u001b[43mbf\u001b[49m\u001b[43m)\u001b[49m\n",
      "\u001b[0;31mTypeError\u001b[0m: string argument expected, got 'bytes'"
     ]
    }
   ],
   "source": [
    "import io\n",
    "bf = io.StringIO()\n",
    "pickle.dump(ct,bf)"
   ]
  },
  {
   "cell_type": "code",
   "execution_count": 44,
   "metadata": {},
   "outputs": [
    {
     "name": "stdout",
     "output_type": "stream",
     "text": [
      "Serializing  conv1.weight\n",
      "Writing json.\n",
      "Writing bytes.\n",
      "Serializing  conv1.bias\n",
      "Writing json.\n",
      "Writing bytes.\n",
      "Serializing  conv2.weight\n",
      "Writing json.\n",
      "Writing bytes.\n",
      "Serializing  conv2.bias\n",
      "Writing json.\n",
      "Writing bytes.\n",
      "Serializing  fc1.weight\n",
      "Writing json.\n",
      "Writing bytes.\n",
      "Serializing  fc1.bias\n",
      "Writing json.\n",
      "Writing bytes.\n",
      "Serializing  fc2.weight\n",
      "Writing json.\n",
      "Writing bytes.\n",
      "Serializing  fc2.bias\n",
      "Writing json.\n",
      "Writing bytes.\n",
      "0 7\n",
      "1 2\n",
      "2 1\n",
      "3 0\n",
      "4 4\n",
      "5 1\n",
      "6 4\n",
      "7 9\n",
      "8 5\n",
      "9 9\n",
      "10 0\n",
      "11 6\n",
      "12 9\n",
      "13 0\n",
      "14 1\n",
      "15 5\n",
      "16 9\n",
      "17 7\n",
      "18 3\n",
      "19 4\n",
      "20 9\n",
      "21 6\n",
      "22 6\n",
      "23 5\n",
      "24 4\n",
      "25 0\n",
      "26 7\n",
      "27 4\n",
      "28 0\n",
      "29 1\n"
     ]
    }
   ],
   "source": [
    "import chpl_tensor as ct\n",
    "\n",
    "# for i in range(6):\n",
    "#     output = cnn(batches[i].reshape(1,1,28,28))\n",
    "#     print(output.argmax())\n",
    "\n",
    "for param_tensor in cnn.state_dict():\n",
    "    print(\"Serializing \", param_tensor)\n",
    "    t = cnn.state_dict()[param_tensor]\n",
    "    t = ct.ChapelTensor(t.to(torch.float64))\n",
    "    t_json = json.dumps(t.full_dict(),indent=2)\n",
    "    # t_bytes = t.pack_bytes()\n",
    "    path = '../data/models/mnist_cnn/' + param_tensor\n",
    "\n",
    "    print(\"Writing json.\")\n",
    "    f = open(path + '.json', 'w+')\n",
    "    f.write(t_json)\n",
    "    f.close()\n",
    "\n",
    "    print(\"Writing bytes.\")\n",
    "    f = open(path + '.chdata','wb')\n",
    "    t.pack_into(f)\n",
    "    f.close()\n",
    "\n",
    "for i in range(30):\n",
    "    img_,lb = dataset[i]\n",
    "    img = img_.reshape(1,1,28,28)\n",
    "    t = ct.ChapelTensor(img.reshape(1,28,28).to(torch.float64))\n",
    "    t_json = json.dumps(t.full_dict(),indent=2)\n",
    "    # t_bytes = t.pack_bytes()\n",
    "    output = int(cnn(img).argmax())\n",
    "    path = '../data/datasets/mnist/image_idx_' + str(i) # + f'_{lb}_{output}'\n",
    "    print(i, output)\n",
    "    # print(\"Writing json.\", i)\n",
    "    f = open(path + '.json', 'w+')\n",
    "    f.write(t_json)\n",
    "    f.close()\n",
    "\n",
    "    # print(\"Writing bytes.\")\n",
    "    f = open(path + '.chdata','wb')\n",
    "    t.pack_into(f)\n",
    "    f.close()\n"
   ]
  },
  {
   "cell_type": "code",
   "execution_count": 41,
   "metadata": {},
   "outputs": [],
   "source": [
    "batched_dataset = datasets.MNIST('../data', train=True, download=True, transform=transform)"
   ]
  },
  {
   "cell_type": "code",
   "execution_count": 42,
   "metadata": {},
   "outputs": [
    {
     "data": {
      "text/plain": [
       "torch.Size([1, 28, 28])"
      ]
     },
     "execution_count": 42,
     "metadata": {},
     "output_type": "execute_result"
    }
   ],
   "source": [
    "img,lb = batched_dataset\n",
    "img.shape"
   ]
  },
  {
   "cell_type": "code",
   "execution_count": 43,
   "metadata": {},
   "outputs": [
    {
     "data": {
      "text/plain": [
       "Dataset MNIST\n",
       "    Number of datapoints: 60000\n",
       "    Root location: ../data\n",
       "    Split: Train\n",
       "    StandardTransform\n",
       "Transform: Compose(\n",
       "               ToTensor()\n",
       "               Normalize(mean=(0.1307,), std=(0.3081,))\n",
       "           )"
      ]
     },
     "execution_count": 43,
     "metadata": {},
     "output_type": "execute_result"
    }
   ],
   "source": [
    "batched_dataset"
   ]
  },
  {
   "cell_type": "code",
   "execution_count": null,
   "metadata": {},
   "outputs": [],
   "source": []
  }
 ],
 "metadata": {
  "kernelspec": {
   "display_name": "Python 3",
   "language": "python",
   "name": "python3"
  },
  "language_info": {
   "codemirror_mode": {
    "name": "ipython",
    "version": 3
   },
   "file_extension": ".py",
   "mimetype": "text/x-python",
   "name": "python",
   "nbconvert_exporter": "python",
   "pygments_lexer": "ipython3",
   "version": "3.9.6"
  }
 },
 "nbformat": 4,
 "nbformat_minor": 2
}
