{
 "cells": [
  {
   "cell_type": "code",
   "execution_count": 1,
   "metadata": {},
   "outputs": [
    {
     "data": {
      "text/plain": [
       "<All keys matched successfully>"
      ]
     },
     "execution_count": 1,
     "metadata": {},
     "output_type": "execute_result"
    }
   ],
   "source": [
    "%load_ext autoreload\n",
    "%autoreload 2\n",
    "\n",
    "import torch\n",
    "import torch.nn as nn\n",
    "import torch.nn.functional as F\n",
    "\n",
    "class Net(nn.Module):\n",
    "    def __init__(self):\n",
    "        super(Net, self).__init__()\n",
    "        self.conv1 = nn.Conv2d(1, 32, 3, 1)\n",
    "        self.conv2 = nn.Conv2d(32, 64, 3, 1)\n",
    "        self.dropout1 = nn.Dropout(0.25)\n",
    "        self.dropout2 = nn.Dropout(0.5)\n",
    "        self.fc1 = nn.Linear(9216, 128)\n",
    "        self.fc2 = nn.Linear(128, 10)\n",
    "\n",
    "    def forward(self, x):\n",
    "        x = self.conv1(x)\n",
    "        x = F.relu(x)\n",
    "        x = self.conv2(x)\n",
    "        x = F.relu(x)\n",
    "        x = F.max_pool2d(x, 2)\n",
    "        x = self.dropout1(x)\n",
    "        x = torch.flatten(x, 1)\n",
    "        x = self.fc1(x)\n",
    "        x = F.relu(x)\n",
    "        x = self.dropout2(x)\n",
    "        x = self.fc2(x)\n",
    "        output = F.log_softmax(x, dim=1)\n",
    "        return output\n",
    "\n",
    "cnn = Net()\n",
    "cnn.load_state_dict(torch.load('mnist_cnn.pt'))"
   ]
  },
  {
   "cell_type": "code",
   "execution_count": 13,
   "metadata": {},
   "outputs": [
    {
     "data": {
      "text/plain": [
       "dict_keys(['training', '_parameters', '_buffers', '_non_persistent_buffers_set', '_backward_pre_hooks', '_backward_hooks', '_is_full_backward_hook', '_forward_hooks', '_forward_hooks_with_kwargs', '_forward_hooks_always_called', '_forward_pre_hooks', '_forward_pre_hooks_with_kwargs', '_state_dict_hooks', '_state_dict_pre_hooks', '_load_state_dict_pre_hooks', '_load_state_dict_post_hooks', '_modules', 'in_channels', 'out_channels', 'kernel_size', 'stride', 'padding', 'dilation', 'transposed', 'output_padding', 'groups', 'padding_mode', '_reversed_padding_repeated_twice'])"
      ]
     },
     "execution_count": 13,
     "metadata": {},
     "output_type": "execute_result"
    }
   ],
   "source": [
    "import toml\n",
    "import json\n",
    "import yaml\n",
    "\n",
    "sd = dict(cnn.state_dict())\n",
    "mds = list(cnn.modules())\n",
    "mds[1:][0].__dict__.keys()"
   ]
  },
  {
   "cell_type": "code",
   "execution_count": 40,
   "metadata": {},
   "outputs": [],
   "source": [
    "dict(cnn.conv1.__dict__)\n",
    "\n",
    "d = { k:v for (k,v) in dict(cnn.conv1.__dict__).items() if k[0] != '_'}\n"
   ]
  },
  {
   "cell_type": "code",
   "execution_count": 43,
   "metadata": {},
   "outputs": [
    {
     "name": "stdout",
     "output_type": "stream",
     "text": [
      "training = true\n",
      "in_channels = 1\n",
      "out_channels = 32\n",
      "kernel_size = [ 3, 3,]\n",
      "stride = [ 1, 1,]\n",
      "padding = [ 0, 0,]\n",
      "dilation = [ 1, 1,]\n",
      "transposed = false\n",
      "output_padding = [ 0, 0,]\n",
      "groups = 1\n",
      "padding_mode = \"zeros\"\n",
      "\n"
     ]
    }
   ],
   "source": [
    "# print(json.dumps(d,indent=2))\n",
    "print(toml.dumps(d))"
   ]
  },
  {
   "cell_type": "code",
   "execution_count": 76,
   "metadata": {},
   "outputs": [
    {
     "name": "stdout",
     "output_type": "stream",
     "text": [
      "model_name = \"cnn\"\n",
      "\n",
      "[cnn]\n",
      "layer = \"Net\"\n",
      "\n",
      "[cnn.attributes]\n",
      "training = true\n",
      "\n",
      "[cnn.sub_modules.conv1]\n",
      "layer = \"Conv2d\"\n",
      "\n",
      "[cnn.sub_modules.conv2]\n",
      "layer = \"Conv2d\"\n",
      "\n",
      "[cnn.sub_modules.dropout1]\n",
      "layer = \"Dropout\"\n",
      "\n",
      "[cnn.sub_modules.dropout2]\n",
      "layer = \"Dropout\"\n",
      "\n",
      "[cnn.sub_modules.fc1]\n",
      "layer = \"Linear\"\n",
      "\n",
      "[cnn.sub_modules.fc2]\n",
      "layer = \"Linear\"\n",
      "\n",
      "[cnn.sub_modules.conv1.attributes]\n",
      "training = true\n",
      "in_channels = 1\n",
      "out_channels = 32\n",
      "kernel_size = [ 3, 3,]\n",
      "stride = [ 1, 1,]\n",
      "padding = [ 0, 0,]\n",
      "dilation = [ 1, 1,]\n",
      "transposed = false\n",
      "output_padding = [ 0, 0,]\n",
      "groups = 1\n",
      "padding_mode = \"zeros\"\n",
      "\n",
      "[cnn.sub_modules.conv1.sub_modules]\n",
      "\n",
      "[cnn.sub_modules.conv2.attributes]\n",
      "training = true\n",
      "in_channels = 32\n",
      "out_channels = 64\n",
      "kernel_size = [ 3, 3,]\n",
      "stride = [ 1, 1,]\n",
      "padding = [ 0, 0,]\n",
      "dilation = [ 1, 1,]\n",
      "transposed = false\n",
      "output_padding = [ 0, 0,]\n",
      "groups = 1\n",
      "padding_mode = \"zeros\"\n",
      "\n",
      "[cnn.sub_modules.conv2.sub_modules]\n",
      "\n",
      "[cnn.sub_modules.dropout1.attributes]\n",
      "training = true\n",
      "p = 0.25\n",
      "inplace = false\n",
      "\n",
      "[cnn.sub_modules.dropout1.sub_modules]\n",
      "\n",
      "[cnn.sub_modules.dropout2.attributes]\n",
      "training = true\n",
      "p = 0.5\n",
      "inplace = false\n",
      "\n",
      "[cnn.sub_modules.dropout2.sub_modules]\n",
      "\n",
      "[cnn.sub_modules.fc1.attributes]\n",
      "training = true\n",
      "in_features = 9216\n",
      "out_features = 128\n",
      "\n",
      "[cnn.sub_modules.fc1.sub_modules]\n",
      "\n",
      "[cnn.sub_modules.fc2.attributes]\n",
      "training = true\n",
      "in_features = 128\n",
      "out_features = 10\n",
      "\n",
      "[cnn.sub_modules.fc2.sub_modules]\n",
      "\n"
     ]
    }
   ],
   "source": [
    "def get_attributes(model):\n",
    "    return { str(k):v for (k,v) in dict(model.__dict__).items() if k[0] != '_'}\n",
    "\n",
    "def get_summary(model,global_name,parent_name=None):\n",
    "    model_name = model.__class__.__name__\n",
    "    d = {\n",
    "        'layer': model_name,\n",
    "        'attributes': get_attributes(model),\n",
    "        'sub_modules': { name : get_summary(m,global_name=global_name,parent_name=name) for name,m in  model.named_children() }\n",
    "    }\n",
    "    if parent_name is None:\n",
    "        return {\n",
    "            'model_name': global_name,\n",
    "            global_name: d\n",
    "        }\n",
    "    return d\n",
    "# get_summary(cnn)\n",
    "print(toml.dumps(get_summary(cnn,'cnn')))\n",
    "# print(yaml.dump(get_summary(cnn)))\n",
    "# print(json.dumps(get_summary(cnn),indent=2))"
   ]
  },
  {
   "cell_type": "code",
   "execution_count": 78,
   "metadata": {},
   "outputs": [],
   "source": [
    "with open('../data/models/mnist_cnn/summary.toml','w') as f:\n",
    "    f.write(toml.dumps(get_summary(cnn,'cnn')))\n",
    "with open('../data/models/mnist_cnn/summary.json','w') as f:\n",
    "    f.write(json.dumps(get_summary(cnn,'cnn'),indent=2))"
   ]
  },
  {
   "cell_type": "code",
   "execution_count": null,
   "metadata": {},
   "outputs": [],
   "source": []
  }
 ],
 "metadata": {
  "kernelspec": {
   "display_name": "Python 3",
   "language": "python",
   "name": "python3"
  },
  "language_info": {
   "codemirror_mode": {
    "name": "ipython",
    "version": 3
   },
   "file_extension": ".py",
   "mimetype": "text/x-python",
   "name": "python",
   "nbconvert_exporter": "python",
   "pygments_lexer": "ipython3",
   "version": "3.9.6"
  }
 },
 "nbformat": 4,
 "nbformat_minor": 2
}
